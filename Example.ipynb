{
 "cells": [
  {
   "cell_type": "markdown",
   "metadata": {},
   "source": [
    "# Installation"
   ]
  },
  {
   "cell_type": "code",
   "execution_count": null,
   "metadata": {},
   "outputs": [],
   "source": [
    "! pip install foambryo"
   ]
  },
  {
   "cell_type": "markdown",
   "metadata": {},
   "source": [
    "# Force Inference from instance segmentation masks of cells"
   ]
  },
  {
   "cell_type": "code",
   "execution_count": null,
   "metadata": {},
   "outputs": [],
   "source": [
    "import skimage.io as io\n",
    "from dw3d import geometry_reconstruction_3d\n",
    "\n",
    "\n",
    "def make_idx(n):\n",
    "    return((\"000\"+str(n))[-3:])\n",
    "dist = 5\n",
    "\n",
    "image_path = \"data/Segmentations/Benchmark_labels.tif\"\n",
    "image = io.imread(image_path)\n",
    "DW = geometry_reconstruction_3d(image,min_dist = dist, expansion_labels =0,mode=\"torch\",print_info=True) #Prefer mode='torch' if possible, otherwise use mode='scipy'\n",
    "#viewer = DW.plot_in_napari()\n",
    "Mesh = DW.return_dcel()"
   ]
  },
  {
   "cell_type": "code",
   "execution_count": null,
   "metadata": {},
   "outputs": [],
   "source": [
    "from foambryo import plot_force_inference\n",
    "\n",
    "plot_force_inference(Mesh,scattered=True, scatter_coeff= 1.5)"
   ]
  },
  {
   "cell_type": "markdown",
   "metadata": {},
   "source": [
    "# Force inference from a pre-existing multimaterial mesh"
   ]
  },
  {
   "cell_type": "code",
   "execution_count": null,
   "metadata": {},
   "outputs": [],
   "source": [
    "import numpy as np\n",
    "from foambryo import plot_tension_inference\n",
    "from foambryo.dcel import DcelData\n",
    "from foambryo.iorec import load_rec\n",
    "\n",
    "verts,triangles, labels = load_rec(\"data/Meshes/Phallusia_Guignard_et_al.rec\")\n",
    "faces_mm = np.hstack((triangles, labels))\n",
    "Mesh = DcelData(verts, faces_mm)\n",
    "#plot_force_inference(Mesh, scattered = True, scatter_coeff=0.3)\n",
    "plot_tension_inference(Mesh, scattered = True, scatter_coeff=0.3)\n",
    "#OR:\n",
    "#plot_force_inference(Mesh, scattered = True, scatter_coeff=0.3) #This can take some time, up to 20 min.\n",
    "#plot_valid_junctions(Mesh)\n",
    "#plot_residual_junctions(Mesh)"
   ]
  },
  {
   "cell_type": "code",
   "execution_count": null,
   "metadata": {},
   "outputs": [],
   "source": []
  }
 ],
 "metadata": {
  "kernelspec": {
   "display_name": "Python 3 (ipykernel)",
   "language": "python",
   "name": "python3"
  },
  "language_info": {
   "codemirror_mode": {
    "name": "ipython",
    "version": 3
   },
   "file_extension": ".py",
   "mimetype": "text/x-python",
   "name": "python",
   "nbconvert_exporter": "python",
   "pygments_lexer": "ipython3",
   "version": "3.11.6"
  }
 },
 "nbformat": 4,
 "nbformat_minor": 4
}
