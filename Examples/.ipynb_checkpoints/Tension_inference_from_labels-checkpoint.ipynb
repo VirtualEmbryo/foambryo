{
 "cells": [
  {
   "cell_type": "code",
   "execution_count": null,
   "id": "8b0b5b41",
   "metadata": {},
   "outputs": [
    {
     "name": "stdout",
     "output_type": "stream",
     "text": [
      "Mode == Torch\n",
      "Kernel size = 5\n",
      "Computing EDT ...\n",
      "EDT computed in  28.9\n",
      "Searching local extremas ...\n"
     ]
    }
   ],
   "source": [
    "from dw3d import geometry_reconstruction_3d\n",
    "import skimage.io as io \n",
    "from foambryo import plot_tension_inference\n",
    "\n",
    "image_path = \"../data/Segmentations/Cshaper_4_cells.tif\"\n",
    "image_path = \"../data/Segmentations/Benchmark_labels.tif\"\n",
    "image_path = \"../data/Segmentations/Phallusia_64_cells.tif\"\n",
    "image = io.imread(image_path)\n",
    "\n",
    "#Use mode ='torch'. If it crashes try mode='skimage' but the result will be worse\n",
    "#This can take up to 5min with Phallusia\n",
    "DW = geometry_reconstruction_3d(image,min_dist = dist, expansion_labels =0,mode='torch',print_info=True) #Prefer mode='torch' if possible\n",
    "\n",
    "Mesh = DW.return_dcel()\n",
    "plot_tension_inference(Mesh)\n"
   ]
  },
  {
   "cell_type": "code",
   "execution_count": null,
   "id": "369cc3ee",
   "metadata": {},
   "outputs": [],
   "source": [
    "#With Phallusia, this can take up to 30 minutes\n",
    "\n",
    "from foambryo import plot_force_inference\n",
    "plot_force_inference(Mesh)\n",
    "\n"
   ]
  },
  {
   "cell_type": "code",
   "execution_count": null,
   "id": "c8d15a5f",
   "metadata": {},
   "outputs": [],
   "source": []
  }
 ],
 "metadata": {
  "kernelspec": {
   "display_name": "Python 3",
   "language": "python",
   "name": "python3"
  },
  "language_info": {
   "codemirror_mode": {
    "name": "ipython",
    "version": 3
   },
   "file_extension": ".py",
   "mimetype": "text/x-python",
   "name": "python",
   "nbconvert_exporter": "python",
   "pygments_lexer": "ipython3",
   "version": "3.8.3"
  }
 },
 "nbformat": 4,
 "nbformat_minor": 5
}
