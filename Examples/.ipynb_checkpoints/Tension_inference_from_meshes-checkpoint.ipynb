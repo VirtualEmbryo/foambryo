{
 "cells": [
  {
   "cell_type": "code",
   "execution_count": 2,
   "metadata": {},
   "outputs": [
    {
     "name": "stderr",
     "output_type": "stream",
     "text": [
      "/Users/sachaichbiah/Documents/PHD/Gitlab/pip_libraries/delaunay-watershed/src/dw3d/Curvature.py:322: FutureWarning: `rcond` parameter will change to the default of machine precision times ``max(M, N)`` where M and N are the input matrix dimensions.\n",
      "To use the future default and silence this warning we advise to pass `rcond=None`, to keep using the old, explicitly pass `rcond=-1`.\n",
      "  C, residules, rank, singval = np.linalg.lstsq(A,f)\n"
     ]
    },
    {
     "name": "stdout",
     "output_type": "stream",
     "text": [
      "Extremas of the Surface Tensions plotted :  0.5727549802952757 1.5848558673896724\n"
     ]
    }
   ],
   "source": [
    "from dw3d import open_mesh_multitracker,DCEL_Data\n",
    "import skimage.io as io \n",
    "from foambryo import plot_tension_inference\n",
    "\n",
    "fname = \"../data/Meshes/Benchmark_original_mesh.rec\"\n",
    "\n",
    "verts,faces_mm,_ = open_mesh_multitracker(fname)\n",
    "Mesh = DCEL_Data(verts,faces_mm)\n",
    "plot_tension_inference(Mesh)"
   ]
  },
  {
   "cell_type": "markdown",
   "metadata": {},
   "source": [
    "# Force inference from a pre-existing multimaterial mesh"
   ]
  },
  {
   "cell_type": "code",
   "execution_count": 4,
   "metadata": {},
   "outputs": [
    {
     "name": "stdout",
     "output_type": "stream",
     "text": [
      "Extremas of the Surface Tensions plotted :  0.5377606393017359 1.5579975593845785\n"
     ]
    }
   ],
   "source": [
    "from foambryo import plot_tension_inference,plot_valid_junctions,plot_residual_junctions, plot_force_inference\n",
    "from dw3d import open_mesh_multitracker,DCEL_Data\n",
    "v,f, _ = open_mesh_multitracker(\"../data/Meshes/Phallusia_Guignard_et_al.rec\")\n",
    "Mesh = DCEL_Data(v,f)\n",
    "plot_tension_inference(Mesh, scattered = True, scatter_coeff=0.3)\n",
    "#OR: \n",
    "#plot_force_inference(Mesh) #This can take some time, up to 20 min. \n",
    "#plot_valid_junctions(Mesh)\n",
    "#plot_residual_junctions(Mesh)"
   ]
  },
  {
   "cell_type": "code",
   "execution_count": 13,
   "metadata": {},
   "outputs": [],
   "source": [
    "directory = \"/Users/sachaichbiah/Documents/PHD/Projects/Trash/Image_analysis/Benchmark_force_inference/Normal_benchmark/\""
   ]
  },
  {
   "cell_type": "code",
   "execution_count": 66,
   "metadata": {},
   "outputs": [],
   "source": [
    "import napari\n",
    "fname =  \"/Users/sachaichbiah/TURLIERLAB Dropbox/Team/sacha.ichbiah/Normal_benchmark/000_microscopy.tif\"\n",
    "img = io.imread(fname)\n",
    "v = napari.view_image(img)\n",
    "\n"
   ]
  },
  {
   "cell_type": "code",
   "execution_count": 65,
   "metadata": {},
   "outputs": [],
   "source": [
    "directory = \"/Users/sachaichbiah/TURLIERLAB Dropbox/Team/sacha.ichbiah/Normal_benchmark/\"\n",
    "names = sorted([x for x in os.listdir(directory) if x.endswith('_membrane.tif')])\n",
    "directoryf = \"/Users/sachaichbiah/TURLIERLAB\\ Dropbox/Team/sacha.ichbiah/Normal_benchmark/\"\n",
    "for name in names:\n",
    "    os.system(\"rm \"+directoryf+name)"
   ]
  },
  {
   "cell_type": "code",
   "execution_count": 9,
   "metadata": {},
   "outputs": [],
   "source": [
    "import os\n",
    "names = sorted([x for x in os.listdir(directory) if x.endswith('.rec')])"
   ]
  },
  {
   "cell_type": "code",
   "execution_count": 48,
   "metadata": {},
   "outputs": [
    {
     "name": "stderr",
     "output_type": "stream",
     "text": [
      "100%|██████████| 47/47 [00:51<00:00,  1.09s/it]\n"
     ]
    }
   ],
   "source": [
    "from tqdm import tqdm\n",
    "from foambryo import infer_tension\n",
    "import numpy as np \n",
    "\n",
    "for fname in tqdm(names):\n",
    "    verts,faces_mm,_ = open_mesh_multitracker(directory + fname)\n",
    "    Mesh = DCEL_Data(verts,faces_mm)\n",
    "    _, dict_tensions, _ = infer_tension(Mesh)\n",
    "    \n",
    "    ncells = np.amax(np.array(list(dict_tensions.keys())))\n",
    "    matrix = np.zeros((ncells+1,ncells+1))*np.nan\n",
    "    for key in dict_tensions: \n",
    "        dict_tensions[key] = np.round(dict_tensions[key],4)\n",
    "        matrix[key[0],key[1]]=dict_tensions[key]\n",
    "        matrix[key[1],key[0]]=dict_tensions[key]\n",
    "        \n",
    "    np.save(directory+ fname[:3]+\"_matrix_tensions.npy\",matrix)\n",
    "\n"
   ]
  },
  {
   "cell_type": "code",
   "execution_count": 39,
   "metadata": {},
   "outputs": [],
   "source": []
  },
  {
   "cell_type": "code",
   "execution_count": 44,
   "metadata": {},
   "outputs": [
    {
     "data": {
      "text/plain": [
       "<matplotlib.image.AxesImage at 0x7fd6d5225160>"
      ]
     },
     "execution_count": 44,
     "metadata": {},
     "output_type": "execute_result"
    },
    {
     "data": {
      "image/png": "[encoded data removed]",
      "text/plain": [
       "<Figure size 432x288 with 1 Axes>"
      ]
     },
     "metadata": {
      "needs_background": "light"
     },
     "output_type": "display_data"
    }
   ],
   "source": [
    "import matplotlib.pyplot as plt\n",
    "plt.imshow(matrix,plt.cm.jet)"
   ]
  },
  {
   "cell_type": "code",
   "execution_count": null,
   "metadata": {},
   "outputs": [],
   "source": []
  }
 ],
 "metadata": {
  "kernelspec": {
   "display_name": "Python 3 (ipykernel)",
   "language": "python",
   "name": "python3"
  },
  "language_info": {
   "codemirror_mode": {
    "name": "ipython",
    "version": 3
   },
   "file_extension": ".py",
   "mimetype": "text/x-python",
   "name": "python",
   "nbconvert_exporter": "python",
   "pygments_lexer": "ipython3",
   "version": "3.9.6"
  }
 },
 "nbformat": 4,
 "nbformat_minor": 4
}
