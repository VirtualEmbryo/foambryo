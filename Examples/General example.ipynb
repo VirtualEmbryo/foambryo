{
 "cells": [
  {
   "cell_type": "markdown",
   "metadata": {},
   "source": [
    "# Installation"
   ]
  },
  {
   "cell_type": "code",
   "execution_count": 3,
   "metadata": {},
   "outputs": [
    {
     "name": "stdout",
     "output_type": "stream",
     "text": [
      "Obtaining file:///Users/sachaichbiah/Documents/PHD/Gitlab/pip_libraries/foambryo\n",
      "  Installing build dependencies ... \u001b[?25ldone\n",
      "\u001b[?25h  Checking if build backend supports build_editable ... \u001b[?25ldone\n",
      "\u001b[?25h  Getting requirements to build editable ... \u001b[?25ldone\n",
      "\u001b[?25h  Installing backend dependencies ... \u001b[?25ldone\n",
      "\u001b[?25h  Preparing editable metadata (pyproject.toml) ... \u001b[?25ldone\n",
      "\u001b[?25hRequirement already satisfied: networkx>=2.5.1 in /Users/sachaichbiah/opt/anaconda3/lib/python3.8/site-packages (from foambryo==0.2.3) (2.5.1)\n",
      "Requirement already satisfied: delaunay-watershed-3d>=0.2.0 in /Users/sachaichbiah/opt/anaconda3/lib/python3.8/site-packages (from foambryo==0.2.3) (0.2.4)\n",
      "Requirement already satisfied: matplotlib>=3.3.1 in /Users/sachaichbiah/opt/anaconda3/lib/python3.8/site-packages (from foambryo==0.2.3) (3.3.1)\n",
      "Requirement already satisfied: scipy>=1.4.1 in /Users/sachaichbiah/opt/anaconda3/lib/python3.8/site-packages (from foambryo==0.2.3) (1.5.4)\n",
      "Requirement already satisfied: numpy>=1.21.6 in /Users/sachaichbiah/opt/anaconda3/lib/python3.8/site-packages (from foambryo==0.2.3) (1.23.5)\n",
      "Requirement already satisfied: polyscope>=1.2.0 in /Users/sachaichbiah/opt/anaconda3/lib/python3.8/site-packages (from foambryo==0.2.3) (1.2.0)\n",
      "Requirement already satisfied: robust-laplacian>=0.2.2 in /Users/sachaichbiah/opt/anaconda3/lib/python3.8/site-packages (from delaunay-watershed-3d>=0.2.0->foambryo==0.2.3) (0.2.2)\n",
      "Requirement already satisfied: edt>=2.2.0 in /Users/sachaichbiah/opt/anaconda3/lib/python3.8/site-packages (from delaunay-watershed-3d>=0.2.0->foambryo==0.2.3) (2.2.0)\n",
      "Requirement already satisfied: scikit-image>=0.18.3 in /Users/sachaichbiah/opt/anaconda3/lib/python3.8/site-packages (from delaunay-watershed-3d>=0.2.0->foambryo==0.2.3) (0.19.3)\n",
      "Requirement already satisfied: trimesh>=3.8.12 in /Users/sachaichbiah/opt/anaconda3/lib/python3.8/site-packages (from delaunay-watershed-3d>=0.2.0->foambryo==0.2.3) (3.10.2)\n",
      "Requirement already satisfied: torch>=1.6.0 in /Users/sachaichbiah/opt/anaconda3/lib/python3.8/site-packages (from delaunay-watershed-3d>=0.2.0->foambryo==0.2.3) (2.0.0)\n",
      "Requirement already satisfied: kiwisolver>=1.0.1 in /Users/sachaichbiah/opt/anaconda3/lib/python3.8/site-packages (from matplotlib>=3.3.1->foambryo==0.2.3) (1.2.0)\n",
      "Requirement already satisfied: certifi>=2020.06.20 in /Users/sachaichbiah/opt/anaconda3/lib/python3.8/site-packages (from matplotlib>=3.3.1->foambryo==0.2.3) (2020.6.20)\n",
      "Requirement already satisfied: cycler>=0.10 in /Users/sachaichbiah/opt/anaconda3/lib/python3.8/site-packages (from matplotlib>=3.3.1->foambryo==0.2.3) (0.10.0)\n",
      "Requirement already satisfied: pillow>=6.2.0 in /Users/sachaichbiah/opt/anaconda3/lib/python3.8/site-packages (from matplotlib>=3.3.1->foambryo==0.2.3) (9.1.1)\n",
      "Requirement already satisfied: python-dateutil>=2.1 in /Users/sachaichbiah/opt/anaconda3/lib/python3.8/site-packages (from matplotlib>=3.3.1->foambryo==0.2.3) (2.8.1)\n",
      "Requirement already satisfied: pyparsing!=2.0.4,!=2.1.2,!=2.1.6,>=2.0.3 in /Users/sachaichbiah/opt/anaconda3/lib/python3.8/site-packages (from matplotlib>=3.3.1->foambryo==0.2.3) (2.4.7)\n",
      "Requirement already satisfied: decorator<5,>=4.3 in /Users/sachaichbiah/opt/anaconda3/lib/python3.8/site-packages (from networkx>=2.5.1->foambryo==0.2.3) (4.4.2)\n",
      "Requirement already satisfied: six in /Users/sachaichbiah/opt/anaconda3/lib/python3.8/site-packages (from cycler>=0.10->matplotlib>=3.3.1->foambryo==0.2.3) (1.16.0)\n",
      "Requirement already satisfied: PyWavelets>=1.1.1 in /Users/sachaichbiah/opt/anaconda3/lib/python3.8/site-packages (from scikit-image>=0.18.3->delaunay-watershed-3d>=0.2.0->foambryo==0.2.3) (1.1.1)\n",
      "Requirement already satisfied: packaging>=20.0 in /Users/sachaichbiah/opt/anaconda3/lib/python3.8/site-packages (from scikit-image>=0.18.3->delaunay-watershed-3d>=0.2.0->foambryo==0.2.3) (23.0)\n",
      "Requirement already satisfied: tifffile>=2019.7.26 in /Users/sachaichbiah/opt/anaconda3/lib/python3.8/site-packages (from scikit-image>=0.18.3->delaunay-watershed-3d>=0.2.0->foambryo==0.2.3) (2020.9.3)\n",
      "Requirement already satisfied: imageio>=2.4.1 in /Users/sachaichbiah/opt/anaconda3/lib/python3.8/site-packages (from scikit-image>=0.18.3->delaunay-watershed-3d>=0.2.0->foambryo==0.2.3) (2.24.0)\n",
      "Requirement already satisfied: jinja2 in /Users/sachaichbiah/opt/anaconda3/lib/python3.8/site-packages (from torch>=1.6.0->delaunay-watershed-3d>=0.2.0->foambryo==0.2.3) (2.11.2)\n",
      "Requirement already satisfied: typing-extensions in /Users/sachaichbiah/opt/anaconda3/lib/python3.8/site-packages (from torch>=1.6.0->delaunay-watershed-3d>=0.2.0->foambryo==0.2.3) (4.2.0)\n",
      "Requirement already satisfied: sympy in /Users/sachaichbiah/opt/anaconda3/lib/python3.8/site-packages (from torch>=1.6.0->delaunay-watershed-3d>=0.2.0->foambryo==0.2.3) (1.6.2)\n",
      "Requirement already satisfied: filelock in /Users/sachaichbiah/opt/anaconda3/lib/python3.8/site-packages (from torch>=1.6.0->delaunay-watershed-3d>=0.2.0->foambryo==0.2.3) (3.9.0)\n",
      "Requirement already satisfied: MarkupSafe>=0.23 in /Users/sachaichbiah/opt/anaconda3/lib/python3.8/site-packages (from jinja2->torch>=1.6.0->delaunay-watershed-3d>=0.2.0->foambryo==0.2.3) (1.1.1)\n",
      "Requirement already satisfied: mpmath>=0.19 in /Users/sachaichbiah/opt/anaconda3/lib/python3.8/site-packages (from sympy->torch>=1.6.0->delaunay-watershed-3d>=0.2.0->foambryo==0.2.3) (1.1.0)\n",
      "Building wheels for collected packages: foambryo\n",
      "  Building editable for foambryo (pyproject.toml) ... \u001b[?25ldone\n",
      "\u001b[?25h  Created wheel for foambryo: filename=foambryo-0.2.3-0.editable-py3-none-any.whl size=4703 sha256=55c6cfda93c44e583f1972e2f5afed258668596a0f9efdeba735d18a1c2130a7\n",
      "  Stored in directory: /private/var/folders/sc/xm26bhbx7qz8snv1wfmntd800000gq/T/pip-ephem-wheel-cache-ob4d4eit/wheels/7d/69/25/1052cfe7d1e42cda8049079c771544bb68d3ba5e74b84e4302\n",
      "Successfully built foambryo\n",
      "Installing collected packages: foambryo\n",
      "  Attempting uninstall: foambryo\n",
      "    Found existing installation: foambryo 0.2.3\n",
      "    Uninstalling foambryo-0.2.3:\n",
      "      Successfully uninstalled foambryo-0.2.3\n",
      "Successfully installed foambryo-0.2.3\n",
      "\n",
      "\u001b[1m[\u001b[0m\u001b[34;49mnotice\u001b[0m\u001b[1;39;49m]\u001b[0m\u001b[39;49m A new release of pip is available: \u001b[0m\u001b[31;49m23.0\u001b[0m\u001b[39;49m -> \u001b[0m\u001b[32;49m23.1.1\u001b[0m\n",
      "\u001b[1m[\u001b[0m\u001b[34;49mnotice\u001b[0m\u001b[1;39;49m]\u001b[0m\u001b[39;49m To update, run: \u001b[0m\u001b[32;49mpip install --upgrade pip\u001b[0m\n"
     ]
    }
   ],
   "source": [
    "! cd ../ && pip install -e ."
   ]
  },
  {
   "cell_type": "markdown",
   "metadata": {},
   "source": [
    "# Force Inference from instance segmentation masks"
   ]
  },
  {
   "cell_type": "code",
   "execution_count": 1,
   "metadata": {},
   "outputs": [
    {
     "name": "stdout",
     "output_type": "stream",
     "text": [
      "Mode == Skimage\n",
      "min_distance = 3\n",
      "Computing EDT ...\n",
      "EDT computed in  0.9\n",
      "Searching local extremas ...\n",
      "Number of local minimas : 1713\n",
      "Number of local maxes : 153\n",
      "Local minimas computed in  0.47\n",
      "Starting triangulation..\n",
      "Triangulation build in  0.03\n",
      "Graph build in  0.396\n",
      "Watershed done in  0.217\n"
     ]
    }
   ],
   "source": [
    "import skimage.io as io\n",
    "from dw3d import geometry_reconstruction_3d\n",
    "\n",
    "\n",
    "def make_idx(n):\n",
    "    return((\"000\"+str(n))[-3:])\n",
    "i = 2\n",
    "dist = 3\n",
    "\n",
    "image_path = \"../data/Segmentations/Benchmark_labels.tif\"\n",
    "image = io.imread(image_path)\n",
    "DW = geometry_reconstruction_3d(image,min_dist = dist, expansion_labels =0,mode=\"skimage\",print_info=True) #Prefer mode='torch' if possible\n",
    "#viewer = DW.plot_in_napari()\n",
    "Mesh = DW.return_dcel()"
   ]
  },
  {
   "cell_type": "code",
   "execution_count": 2,
   "metadata": {},
   "outputs": [
    {
     "name": "stderr",
     "output_type": "stream",
     "text": [
      "100%|██████████| 18/18 [00:00<00:00, 36.47it/s]\n",
      "100%|██████████| 7/7 [00:00<00:00, 20.35it/s]\n",
      "/Users/sachaichbiah/Documents/PHD/Gitlab/pip_libraries/delaunay-watershed/src/dw3d/Curvature.py:322: FutureWarning: `rcond` parameter will change to the default of machine precision times ``max(M, N)`` where M and N are the input matrix dimensions.\n",
      "To use the future default and silence this warning we advise to pass `rcond=None`, to keep using the old, explicitly pass `rcond=-1`.\n",
      "  C, residules, rank, singval = np.linalg.lstsq(A,f)\n"
     ]
    },
    {
     "name": "stdout",
     "output_type": "stream",
     "text": [
      "Extremas of the Surface Tensions plotted :  0.5754080134914639 1.5034684011484374\n",
      "Extremas of pressures plotted:  0 0.051650413680045915\n"
     ]
    }
   ],
   "source": [
    "from foambryo import plot_force_inference\n",
    "\n",
    "plot_force_inference(Mesh)"
   ]
  },
  {
   "cell_type": "markdown",
   "metadata": {},
   "source": [
    "# Force inference from a pre-existing multimaterial mesh"
   ]
  },
  {
   "cell_type": "code",
   "execution_count": 4,
   "metadata": {},
   "outputs": [
    {
     "name": "stdout",
     "output_type": "stream",
     "text": [
      "Extremas of the Surface Tensions plotted :  0.5377606393017359 1.5579975593845785\n"
     ]
    }
   ],
   "source": [
    "from foambryo import DcelData, load_rec, plot_force_inference, plot_tension_inference\n",
    "\n",
    "points, triangles, labels = load_rec(\"../data/Meshes/Phallusia_Guignard_et_al.rec\")\n",
    "Mesh = DcelData(points, triangles, labels)\n",
    "plot_tension_inference(Mesh, scattered = True, scatter_coeff=0.3)\n",
    "#OR:\n",
    "# plot_force_inference(Mesh) #This can take some time, up to 20 min.\n",
    "# plot_valid_junctions(Mesh)\n",
    "# plot_residual_junctions(Mesh)"
   ]
  },
  {
   "cell_type": "code",
   "execution_count": null,
   "metadata": {},
   "outputs": [],
   "source": []
  }
 ],
 "metadata": {
  "kernelspec": {
   "display_name": "Python 3 (ipykernel)",
   "language": "python",
   "name": "python3"
  },
  "language_info": {
   "codemirror_mode": {
    "name": "ipython",
    "version": 3
   },
   "file_extension": ".py",
   "mimetype": "text/x-python",
   "name": "python",
   "nbconvert_exporter": "python",
   "pygments_lexer": "ipython3",
   "version": "3.9.6"
  }
 },
 "nbformat": 4,
 "nbformat_minor": 4
}
