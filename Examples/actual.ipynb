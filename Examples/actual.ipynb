{
 "cells": [
  {
   "cell_type": "code",
   "execution_count": 1,
   "metadata": {},
   "outputs": [
    {
     "name": "stdout",
     "output_type": "stream",
     "text": [
      "OK !\n"
     ]
    }
   ],
   "source": [
    "import math\n",
    "from pathlib import Path\n",
    "\n",
    "import numpy as np\n",
    "from foambryo import infer_forces\n",
    "from foambryo.dcel import DcelData\n",
    "from foambryo.iorec import load_rec\n",
    "\n",
    "fname = \"../data/Meshes/Benchmark_original_mesh.rec\"\n",
    "\n",
    "points,triangles, labels = load_rec(fname)\n",
    "triangles_and_labels = np.hstack((triangles, labels))\n",
    "mesh = DcelData(points, triangles_and_labels)\n",
    "dict_tensions, dict_pressure = infer_forces(mesh)\n",
    "\n",
    "reference_tensions = {}\n",
    "with Path(\"reference_tensions.txt\").open(\"r\") as f:\n",
    "    for line in f.readlines():\n",
    "        l1, l2, tension = line.split(\" \")\n",
    "        reference_tensions[(int(l1), int(l2))] = float(tension)\n",
    "\n",
    "assert reference_tensions == dict_tensions\n",
    "\n",
    "reference_pressures = {}\n",
    "with Path(\"reference_pressures.txt\").open(\"r\") as f:\n",
    "    for line in f.readlines():\n",
    "        cell_id, pressure = line.split(\" \")\n",
    "        reference_pressures[int(cell_id)] = float(pressure)\n",
    "\n",
    "assert reference_pressures.keys() == dict_pressure.keys()\n",
    "# pressures use stochastic gradient descent at some point so there's some randomness\n",
    "for cell_id in reference_pressures:\n",
    "    assert math.fabs(reference_pressures[cell_id] - dict_pressure[cell_id]) < 0.0001\n",
    "\n",
    "print(\"OK !\")\n"
   ]
  }
 ],
 "metadata": {
  "kernelspec": {
   "display_name": ".venv",
   "language": "python",
   "name": "python3"
  },
  "language_info": {
   "codemirror_mode": {
    "name": "ipython",
    "version": 3
   },
   "file_extension": ".py",
   "mimetype": "text/x-python",
   "name": "python",
   "nbconvert_exporter": "python",
   "pygments_lexer": "ipython3",
   "version": "3.11.7"
  }
 },
 "nbformat": 4,
 "nbformat_minor": 2
}
