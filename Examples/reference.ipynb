{
 "cells": [
  {
   "cell_type": "code",
   "execution_count": 4,
   "metadata": {},
   "outputs": [
    {
     "name": "stdout",
     "output_type": "stream",
     "text": [
      "0 1 0.3631554347177323\n",
      "0 2 0.8365353172009415\n",
      "0 3 0.8656896637344815\n",
      "0 4 0.9642930436895708\n",
      "0 5 0.893348838037088\n",
      "0 6 0.730455115447899\n",
      "1 2 0.7031485544845701\n",
      "1 3 0.8769589271580922\n",
      "1 4 1.008584109691503\n",
      "1 5 0.9743699951525318\n",
      "1 6 0.7346921920068364\n",
      "2 3 1.351056680120659\n",
      "2 4 1.5685347278036887\n",
      "2 6 1.114823371642659\n",
      "3 6 0.6097431353971956\n",
      "4 5 1.6773423250435775\n",
      "4 6 1.228825177919494\n",
      "5 6 1.4984433373712986\n",
      "0 0\n",
      "1 1.6297358980865\n",
      "2 4.83091421655923\n",
      "3 4.758958444073448\n",
      "4 5.472285249884639\n",
      "5 5.116947182448321\n",
      "6 3.7229542093574763\n"
     ]
    }
   ],
   "source": [
    "from pathlib import Path\n",
    "\n",
    "from foambryo import dcel_mesh_from_file, infer_forces\n",
    "\n",
    "fname = \"../data/Meshes/Benchmark_original_mesh.rec\"\n",
    "\n",
    "\n",
    "mesh = dcel_mesh_from_file(fname)\n",
    "dict_tensions, dict_pressure = infer_forces(mesh)\n",
    "\n",
    "with Path(\"reference_tensions.txt\").open(\"w\") as f:\n",
    "    for interface in dict_tensions:\n",
    "        content = f\"{interface[0]} {interface[1]} {dict_tensions[interface]}\\n\"\n",
    "        print(content, end=\"\")\n",
    "        f.write(content)\n",
    "with Path(\"reference_pressures.txt\").open(\"w\") as f:\n",
    "    for cell in dict_pressure:\n",
    "        content = f\"{cell} {dict_pressure[cell]}\\n\"\n",
    "        print(content, end=\"\")\n",
    "        f.write(content)\n"
   ]
  }
 ],
 "metadata": {
  "kernelspec": {
   "display_name": ".venv",
   "language": "python",
   "name": "python3"
  },
  "language_info": {
   "codemirror_mode": {
    "name": "ipython",
    "version": 3
   },
   "file_extension": ".py",
   "mimetype": "text/x-python",
   "name": "python",
   "nbconvert_exporter": "python",
   "pygments_lexer": "ipython3",
   "version": "3.11.7"
  }
 },
 "nbformat": 4,
 "nbformat_minor": 2
}
